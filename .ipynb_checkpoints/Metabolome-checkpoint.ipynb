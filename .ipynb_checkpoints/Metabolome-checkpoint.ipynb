{
 "cells": [
  {
   "cell_type": "code",
   "execution_count": 104,
   "metadata": {},
   "outputs": [],
   "source": [
    "import pandas as pd\n",
    "import numpy as np\n",
    "import matplotlib.pyplot as plt\n",
    "import seaborn as sns\n",
    "\n",
    "from scipy.stats import spearmanr, pearsonr, kruskal\n",
    "from scipy.spatial.distance import pdist, squareform\n",
    "from skbio.stats.distance import mantel, permanova, DistanceMatrix\n",
    "from skbio.stats.ordination import pcoa\n",
    "%matplotlib inline"
   ]
  },
  {
   "cell_type": "code",
   "execution_count": 105,
   "metadata": {},
   "outputs": [],
   "source": [
    "metabo = pd.read_csv(\"data/Metabolome_BF.csv\", encoding='unicode_escape')\n",
    "\n",
    "metabo = metabo[metabo[\"Sample\"].isna()==False]\n",
    "metabo = metabo.drop([\"Sample Description\", \"Sample Weight\", \"Date and Time\"], axis=1)\n",
    "\n",
    "metabo = metabo.set_index(\"Sample\")\n",
    "\n",
    "#Clean up column names\n",
    "metabo.columns = [\" \".join(col.split(\" \")[:-4]) for col in list(metabo.columns)]\n",
    "\n",
    "#Impute NQ as LLOQ/2\n",
    "metabo.replace(to_replace=\"NQ\",\n",
    "               value=np.nan,\n",
    "               inplace=True)\n",
    "\n",
    "metabo.loc[\"LLOQ\",:] = metabo.loc[\"LLOQ\",:].astype(float)\n",
    "metabo.loc[\"half LLOQ\",:] = metabo.loc[\"LLOQ\"]/2\n",
    "metabo.iloc[2:-1,:] = metabo.iloc[2:-1,:].fillna(metabo.loc[\"half LLOQ\",:])\n",
    "\n",
    "#Drop ULOQ/LLOQ\n",
    "metabo.drop([\"half LLOQ\",\"LLOQ\",\"ULOQ\"], inplace=True)"
   ]
  },
  {
   "cell_type": "code",
   "execution_count": 106,
   "metadata": {},
   "outputs": [
    {
     "data": {
      "text/html": [
       "<div>\n",
       "<style scoped>\n",
       "    .dataframe tbody tr th:only-of-type {\n",
       "        vertical-align: middle;\n",
       "    }\n",
       "\n",
       "    .dataframe tbody tr th {\n",
       "        vertical-align: top;\n",
       "    }\n",
       "\n",
       "    .dataframe thead th {\n",
       "        text-align: right;\n",
       "    }\n",
       "</style>\n",
       "<table border=\"1\" class=\"dataframe\">\n",
       "  <thead>\n",
       "    <tr style=\"text-align: right;\">\n",
       "      <th></th>\n",
       "      <th>myristic acid (14:0)</th>\n",
       "      <th>myristoleic acid (14:1n5)</th>\n",
       "      <th>pentadecanoic acid (15:0)</th>\n",
       "      <th>palmitic acid (16:0)</th>\n",
       "      <th>palmitoleic acid (16:1n7)</th>\n",
       "      <th>margaric acid (17:0)</th>\n",
       "      <th>stearic acid (18:0)</th>\n",
       "      <th>oleic acid (18:1n9)</th>\n",
       "      <th>vaccenic acid (18:1n7)</th>\n",
       "      <th>linoleic acid (18:2n6)</th>\n",
       "      <th>...</th>\n",
       "      <th>eicosapentaenoic acid (20:5n3)</th>\n",
       "      <th>behenic acid (22:0)</th>\n",
       "      <th>erucic acid (22:1n9)</th>\n",
       "      <th>cis-13-16-docosadienoic acid (22:2n6)</th>\n",
       "      <th>adrenic acid (22:4n6)</th>\n",
       "      <th>osbond acid (22:5n6)</th>\n",
       "      <th>docosapentaenoic acid (22:5n3)</th>\n",
       "      <th>docosahexaenoic acid (22:6n3)</th>\n",
       "      <th>lignoceric acid (24:0)</th>\n",
       "      <th>nervonic acid (24:1n9)</th>\n",
       "    </tr>\n",
       "    <tr>\n",
       "      <th>Sample</th>\n",
       "      <th></th>\n",
       "      <th></th>\n",
       "      <th></th>\n",
       "      <th></th>\n",
       "      <th></th>\n",
       "      <th></th>\n",
       "      <th></th>\n",
       "      <th></th>\n",
       "      <th></th>\n",
       "      <th></th>\n",
       "      <th></th>\n",
       "      <th></th>\n",
       "      <th></th>\n",
       "      <th></th>\n",
       "      <th></th>\n",
       "      <th></th>\n",
       "      <th></th>\n",
       "      <th></th>\n",
       "      <th></th>\n",
       "      <th></th>\n",
       "      <th></th>\n",
       "    </tr>\n",
       "  </thead>\n",
       "  <tbody>\n",
       "    <tr>\n",
       "      <th>B.F 1.1</th>\n",
       "      <td>0.601</td>\n",
       "      <td>0.48</td>\n",
       "      <td>0.408</td>\n",
       "      <td>10.5</td>\n",
       "      <td>0.8</td>\n",
       "      <td>0.385</td>\n",
       "      <td>3.81</td>\n",
       "      <td>3.09</td>\n",
       "      <td>0.8</td>\n",
       "      <td>6.4</td>\n",
       "      <td>...</td>\n",
       "      <td>0.8</td>\n",
       "      <td>0.793</td>\n",
       "      <td>0.112</td>\n",
       "      <td>0.48</td>\n",
       "      <td>0.48</td>\n",
       "      <td>0.48</td>\n",
       "      <td>0.8</td>\n",
       "      <td>1.6</td>\n",
       "      <td>0.878</td>\n",
       "      <td>0.8</td>\n",
       "    </tr>\n",
       "    <tr>\n",
       "      <th>B.F 1.2</th>\n",
       "      <td>4.990</td>\n",
       "      <td>0.282</td>\n",
       "      <td>4.770</td>\n",
       "      <td>50.7</td>\n",
       "      <td>1.51</td>\n",
       "      <td>2.560</td>\n",
       "      <td>11.80</td>\n",
       "      <td>14.00</td>\n",
       "      <td>3.82</td>\n",
       "      <td>6.84</td>\n",
       "      <td>...</td>\n",
       "      <td>0.8</td>\n",
       "      <td>3.000</td>\n",
       "      <td>0.476</td>\n",
       "      <td>0.308</td>\n",
       "      <td>0.48</td>\n",
       "      <td>0.48</td>\n",
       "      <td>0.8</td>\n",
       "      <td>1.6</td>\n",
       "      <td>6.410</td>\n",
       "      <td>1.97</td>\n",
       "    </tr>\n",
       "    <tr>\n",
       "      <th>B.F 1.3</th>\n",
       "      <td>8.810</td>\n",
       "      <td>0.491</td>\n",
       "      <td>7.540</td>\n",
       "      <td>106.0</td>\n",
       "      <td>2.35</td>\n",
       "      <td>4.420</td>\n",
       "      <td>30.20</td>\n",
       "      <td>40.90</td>\n",
       "      <td>8.11</td>\n",
       "      <td>8.64</td>\n",
       "      <td>...</td>\n",
       "      <td>0.8</td>\n",
       "      <td>3.300</td>\n",
       "      <td>0.848</td>\n",
       "      <td>0.785</td>\n",
       "      <td>1.31</td>\n",
       "      <td>0.48</td>\n",
       "      <td>2.16</td>\n",
       "      <td>2.86</td>\n",
       "      <td>7.800</td>\n",
       "      <td>2.52</td>\n",
       "    </tr>\n",
       "    <tr>\n",
       "      <th>B.F 2.1</th>\n",
       "      <td>6.250</td>\n",
       "      <td>0.131</td>\n",
       "      <td>4.510</td>\n",
       "      <td>93.8</td>\n",
       "      <td>2.36</td>\n",
       "      <td>2.420</td>\n",
       "      <td>17.20</td>\n",
       "      <td>29.50</td>\n",
       "      <td>5.53</td>\n",
       "      <td>13.7</td>\n",
       "      <td>...</td>\n",
       "      <td>0.8</td>\n",
       "      <td>2.100</td>\n",
       "      <td>0.582</td>\n",
       "      <td>0.379</td>\n",
       "      <td>0.793</td>\n",
       "      <td>0.973</td>\n",
       "      <td>1.51</td>\n",
       "      <td>3.08</td>\n",
       "      <td>4.650</td>\n",
       "      <td>1.39</td>\n",
       "    </tr>\n",
       "    <tr>\n",
       "      <th>B.F 2.2</th>\n",
       "      <td>7.310</td>\n",
       "      <td>0.165</td>\n",
       "      <td>4.960</td>\n",
       "      <td>111.0</td>\n",
       "      <td>2.50</td>\n",
       "      <td>2.860</td>\n",
       "      <td>22.80</td>\n",
       "      <td>36.80</td>\n",
       "      <td>6.49</td>\n",
       "      <td>15.0</td>\n",
       "      <td>...</td>\n",
       "      <td>0.8</td>\n",
       "      <td>2.680</td>\n",
       "      <td>0.608</td>\n",
       "      <td>0.425</td>\n",
       "      <td>0.946</td>\n",
       "      <td>0.48</td>\n",
       "      <td>0.8</td>\n",
       "      <td>4.44</td>\n",
       "      <td>6.510</td>\n",
       "      <td>1.99</td>\n",
       "    </tr>\n",
       "  </tbody>\n",
       "</table>\n",
       "<p>5 rows × 30 columns</p>\n",
       "</div>"
      ],
      "text/plain": [
       "         myristic acid (14:0) myristoleic acid (14:1n5)  \\\n",
       "Sample                                                    \n",
       "B.F 1.1                 0.601                      0.48   \n",
       "B.F 1.2                 4.990                     0.282   \n",
       "B.F 1.3                 8.810                     0.491   \n",
       "B.F 2.1                 6.250                     0.131   \n",
       "B.F 2.2                 7.310                     0.165   \n",
       "\n",
       "         pentadecanoic acid (15:0)  palmitic acid (16:0)  \\\n",
       "Sample                                                     \n",
       "B.F 1.1                      0.408                  10.5   \n",
       "B.F 1.2                      4.770                  50.7   \n",
       "B.F 1.3                      7.540                 106.0   \n",
       "B.F 2.1                      4.510                  93.8   \n",
       "B.F 2.2                      4.960                 111.0   \n",
       "\n",
       "        palmitoleic acid (16:1n7)  margaric acid (17:0)  stearic acid (18:0)  \\\n",
       "Sample                                                                         \n",
       "B.F 1.1                       0.8                 0.385                 3.81   \n",
       "B.F 1.2                      1.51                 2.560                11.80   \n",
       "B.F 1.3                      2.35                 4.420                30.20   \n",
       "B.F 2.1                      2.36                 2.420                17.20   \n",
       "B.F 2.2                      2.50                 2.860                22.80   \n",
       "\n",
       "         oleic acid (18:1n9) vaccenic acid (18:1n7) linoleic acid (18:2n6)  \\\n",
       "Sample                                                                       \n",
       "B.F 1.1                 3.09                    0.8                    6.4   \n",
       "B.F 1.2                14.00                   3.82                   6.84   \n",
       "B.F 1.3                40.90                   8.11                   8.64   \n",
       "B.F 2.1                29.50                   5.53                   13.7   \n",
       "B.F 2.2                36.80                   6.49                   15.0   \n",
       "\n",
       "         ... eicosapentaenoic acid (20:5n3) behenic acid (22:0)  \\\n",
       "Sample   ...                                                      \n",
       "B.F 1.1  ...                            0.8               0.793   \n",
       "B.F 1.2  ...                            0.8               3.000   \n",
       "B.F 1.3  ...                            0.8               3.300   \n",
       "B.F 2.1  ...                            0.8               2.100   \n",
       "B.F 2.2  ...                            0.8               2.680   \n",
       "\n",
       "        erucic acid (22:1n9)  cis-13-16-docosadienoic acid (22:2n6)  \\\n",
       "Sample                                                                \n",
       "B.F 1.1                0.112                                   0.48   \n",
       "B.F 1.2                0.476                                  0.308   \n",
       "B.F 1.3                0.848                                  0.785   \n",
       "B.F 2.1                0.582                                  0.379   \n",
       "B.F 2.2                0.608                                  0.425   \n",
       "\n",
       "        adrenic acid (22:4n6) osbond acid (22:5n6)  \\\n",
       "Sample                                               \n",
       "B.F 1.1                  0.48                 0.48   \n",
       "B.F 1.2                  0.48                 0.48   \n",
       "B.F 1.3                  1.31                 0.48   \n",
       "B.F 2.1                 0.793                0.973   \n",
       "B.F 2.2                 0.946                 0.48   \n",
       "\n",
       "        docosapentaenoic acid (22:5n3) docosahexaenoic acid (22:6n3)  \\\n",
       "Sample                                                                 \n",
       "B.F 1.1                            0.8                           1.6   \n",
       "B.F 1.2                            0.8                           1.6   \n",
       "B.F 1.3                           2.16                          2.86   \n",
       "B.F 2.1                           1.51                          3.08   \n",
       "B.F 2.2                            0.8                          4.44   \n",
       "\n",
       "        lignoceric acid (24:0) nervonic acid (24:1n9)  \n",
       "Sample                                                 \n",
       "B.F 1.1                  0.878                    0.8  \n",
       "B.F 1.2                  6.410                   1.97  \n",
       "B.F 1.3                  7.800                   2.52  \n",
       "B.F 2.1                  4.650                   1.39  \n",
       "B.F 2.2                  6.510                   1.99  \n",
       "\n",
       "[5 rows x 30 columns]"
      ]
     },
     "execution_count": 106,
     "metadata": {},
     "output_type": "execute_result"
    }
   ],
   "source": [
    "metabo.head()"
   ]
  },
  {
   "cell_type": "code",
   "execution_count": 107,
   "metadata": {},
   "outputs": [],
   "source": [
    "metadata = pd.read_csv(\"data/metadata.tsv\", sep=\"\\t\", index_col=\"Sampleid\")"
   ]
  },
  {
   "cell_type": "code",
   "execution_count": 108,
   "metadata": {},
   "outputs": [],
   "source": [
    "for var in metabo.columns:\n",
    "    metabo[var] = metabo[var].astype(float)"
   ]
  },
  {
   "cell_type": "code",
   "execution_count": 109,
   "metadata": {},
   "outputs": [],
   "source": [
    "spear_time_volc = pd.DataFrame(index=metabo.columns, columns=[\"p\",\"r\"])\n",
    "\n",
    "for lipid in metabo.columns:\n",
    "    spear = spearmanr(metabo[lipid],\n",
    "                      metadata[\"Timepoint\"])\n",
    "    \n",
    "    spear_time_volc.loc[lipid, \"p\"] = spear.pvalue\n",
    "    \n",
    "    spear_time_volc.loc[lipid, \"r\"] = spear.correlation\n",
    "    \n",
    "spear_time_volc[\"-log10 p value\"] = spear_time_volc[\"p\"].apply(lambda x: -1*np.log10(x))"
   ]
  },
  {
   "cell_type": "code",
   "execution_count": 110,
   "metadata": {},
   "outputs": [
    {
     "data": {
      "text/plain": [
       "<matplotlib.lines.Line2D at 0x14015a390>"
      ]
     },
     "execution_count": 110,
     "metadata": {},
     "output_type": "execute_result"
    },
    {
     "data": {
      "image/png": "[encoded data removed]",
      "text/plain": [
       "<Figure size 432x288 with 1 Axes>"
      ]
     },
     "metadata": {
      "needs_background": "light"
     },
     "output_type": "display_data"
    }
   ],
   "source": [
    "ax = sns.scatterplot(y=\"-log10 p value\",x=\"r\", data=spear_time_volc)\n",
    "\n",
    "ax.axhline(-np.log10(0.05), ls=\"--\")"
   ]
  },
  {
   "cell_type": "code",
   "execution_count": 111,
   "metadata": {},
   "outputs": [
    {
     "data": {
      "text/html": [
       "<div>\n",
       "<style scoped>\n",
       "    .dataframe tbody tr th:only-of-type {\n",
       "        vertical-align: middle;\n",
       "    }\n",
       "\n",
       "    .dataframe tbody tr th {\n",
       "        vertical-align: top;\n",
       "    }\n",
       "\n",
       "    .dataframe thead th {\n",
       "        text-align: right;\n",
       "    }\n",
       "</style>\n",
       "<table border=\"1\" class=\"dataframe\">\n",
       "  <thead>\n",
       "    <tr style=\"text-align: right;\">\n",
       "      <th></th>\n",
       "      <th>p</th>\n",
       "      <th>r</th>\n",
       "      <th>-log10 p value</th>\n",
       "    </tr>\n",
       "  </thead>\n",
       "  <tbody>\n",
       "    <tr>\n",
       "      <th>mead acid (20:3n9)</th>\n",
       "      <td>0.0274421</td>\n",
       "      <td>0.480575</td>\n",
       "      <td>1.561583</td>\n",
       "    </tr>\n",
       "  </tbody>\n",
       "</table>\n",
       "</div>"
      ],
      "text/plain": [
       "                            p         r  -log10 p value\n",
       "mead acid (20:3n9)  0.0274421  0.480575        1.561583"
      ]
     },
     "execution_count": 111,
     "metadata": {},
     "output_type": "execute_result"
    }
   ],
   "source": [
    "spear_time_volc.loc[spear_time_volc[\"p\"]<0.05]"
   ]
  },
  {
   "cell_type": "code",
   "execution_count": 112,
   "metadata": {},
   "outputs": [
    {
     "data": {
      "text/plain": [
       "<matplotlib.collections.PathCollection at 0x13de8ca20>"
      ]
     },
     "execution_count": 112,
     "metadata": {},
     "output_type": "execute_result"
    },
    {
     "data": {
      "image/png": "[encoded data removed]",
      "text/plain": [
       "<Figure size 432x288 with 1 Axes>"
      ]
     },
     "metadata": {
      "needs_background": "light"
     },
     "output_type": "display_data"
    }
   ],
   "source": [
    "plt.scatter(y=metabo[\"mead acid (20:3n9)\"], x=metadata[\"Timepoint\"])"
   ]
  },
  {
   "cell_type": "code",
   "execution_count": 113,
   "metadata": {},
   "outputs": [],
   "source": [
    "pear_time_volc = pd.DataFrame(index=metabo.columns, columns=[\"p\",\"r\"])\n",
    "\n",
    "for lipid in metabo.columns:\n",
    "    pear = pearsonr(metabo[lipid],\n",
    "                      metadata[\"Timepoint\"])\n",
    "    \n",
    "    pear_time_volc.loc[lipid, \"p\"] = pear[1]\n",
    "    \n",
    "    pear_time_volc.loc[lipid, \"r\"] = pear[0]\n",
    "    \n",
    "pear_time_volc[\"-log10 p value\"] = pear_time_volc[\"p\"].apply(lambda x: -1*np.log10(x))"
   ]
  },
  {
   "cell_type": "code",
   "execution_count": 114,
   "metadata": {},
   "outputs": [
    {
     "data": {
      "text/plain": [
       "<matplotlib.lines.Line2D at 0x13de8cf98>"
      ]
     },
     "execution_count": 114,
     "metadata": {},
     "output_type": "execute_result"
    },
    {
     "data": {
      "image/png": "[encoded data removed]",
      "text/plain": [
       "<Figure size 432x288 with 1 Axes>"
      ]
     },
     "metadata": {
      "needs_background": "light"
     },
     "output_type": "display_data"
    }
   ],
   "source": [
    "ax = sns.scatterplot(y=\"-log10 p value\",x=\"r\", data=pear_time_volc)\n",
    "\n",
    "ax.axhline(-np.log10(0.05), ls=\"--\")"
   ]
  },
  {
   "cell_type": "markdown",
   "metadata": {},
   "source": [
    "# Ordinations, Mantel, and PERMANOVA"
   ]
  },
  {
   "cell_type": "code",
   "execution_count": 116,
   "metadata": {},
   "outputs": [
    {
     "name": "stderr",
     "output_type": "stream",
     "text": [
      "/opt/anaconda3/envs/qiime2-2020.11/lib/python3.6/site-packages/skbio/stats/ordination/_principal_coordinate_analysis.py:152: RuntimeWarning: The result contains negative eigenvalues. Please compare their magnitude with the magnitude of some of the largest positive eigenvalues. If the negative ones are smaller, it's probably safe to ignore them, but if they are large in magnitude, the results won't be useful. See the Notes section for more details. The smallest eigenvalue is -0.013993914428380038 and the largest is 2.159830707296822.\n",
      "  RuntimeWarning\n"
     ]
    }
   ],
   "source": [
    "metabo_pcoa = pcoa(metabo_braycurt, number_of_dimensions=3)"
   ]
  },
  {
   "cell_type": "code",
   "execution_count": 117,
   "metadata": {},
   "outputs": [
    {
     "data": {
      "text/plain": [
       "PC1    0.584448\n",
       "PC2    0.287275\n",
       "PC3    0.044437\n",
       "dtype: float64"
      ]
     },
     "execution_count": 117,
     "metadata": {},
     "output_type": "execute_result"
    }
   ],
   "source": [
    "metabo_pcoa.proportion_explained"
   ]
  },
  {
   "cell_type": "markdown",
   "metadata": {},
   "source": [
    "### Participant"
   ]
  },
  {
   "cell_type": "code",
   "execution_count": 122,
   "metadata": {
    "scrolled": true
   },
   "outputs": [
    {
     "data": {
      "text/plain": [
       "<matplotlib.axes._subplots.AxesSubplot at 0x140356b70>"
      ]
     },
     "execution_count": 122,
     "metadata": {},
     "output_type": "execute_result"
    },
    {
     "data": {
      "image/png": "[encoded data removed]",
      "text/plain": [
       "<Figure size 432x288 with 1 Axes>"
      ]
     },
     "metadata": {
      "needs_background": "light"
     },
     "output_type": "display_data"
    }
   ],
   "source": [
    "sns.scatterplot(x=\"PC1\", y=\"PC2\", hue=metadata[\"Subjectcode\"], data=metabo_pcoa.samples)"
   ]
  },
  {
   "cell_type": "code",
   "execution_count": 115,
   "metadata": {},
   "outputs": [
    {
     "data": {
      "text/plain": [
       "method name               PERMANOVA\n",
       "test statistic name        pseudo-F\n",
       "sample size                      21\n",
       "number of groups                  7\n",
       "test statistic             0.577544\n",
       "p-value                        0.88\n",
       "number of permutations          999\n",
       "Name: PERMANOVA results, dtype: object"
      ]
     },
     "execution_count": 115,
     "metadata": {},
     "output_type": "execute_result"
    }
   ],
   "source": [
    "metabo_braycurt = DistanceMatrix(squareform(pdist(metabo, metric=\"braycurtis\")), ids=metabo.index)\n",
    "\n",
    "permanova(metabo_braycurt, metadata[\"Subjectcode\"])"
   ]
  },
  {
   "cell_type": "markdown",
   "metadata": {},
   "source": [
    "### Timepoint"
   ]
  },
  {
   "cell_type": "code",
   "execution_count": 123,
   "metadata": {},
   "outputs": [
    {
     "name": "stdout",
     "output_type": "stream",
     "text": [
      "MANTEL TIMEPOINT METABOLOME\n",
      "p value: 0.033\n",
      "pseudo-F: 0.16546399581077356\n"
     ]
    }
   ],
   "source": [
    "#initialize empty distance matrix\n",
    "dat = metadata[\"Timepoint\"].dropna()\n",
    "dim = dat.shape[0]\n",
    "distm = np.empty((dim, dim))\n",
    "\n",
    "#fill distance matrix\n",
    "for i in range(dim):\n",
    "    for j in range(dim):\n",
    "        distm[i,j] = np.abs(dat.iloc[i]-dat.iloc[j])\n",
    "\n",
    "distm = DistanceMatrix(distm, ids=dat.index)\n",
    "\n",
    "#filter where we don't have data\n",
    "microbiome_distm = DistanceMatrix(metabo_braycurt.to_data_frame().loc[dat.index,dat.index], \n",
    "                          ids=dat.index)\n",
    "#do the mantel\n",
    "man = mantel(microbiome_distm, \n",
    "            distm,\n",
    "            method=\"spearman\")\n",
    "\n",
    "print(\"MANTEL TIMEPOINT METABOLOME\")\n",
    "print(f\"p value: {man[1]}\")\n",
    "print(f\"pseudo-F: {man[0]}\")"
   ]
  },
  {
   "cell_type": "code",
   "execution_count": 118,
   "metadata": {},
   "outputs": [
    {
     "data": {
      "text/plain": [
       "<matplotlib.axes._subplots.AxesSubplot at 0x13e10af28>"
      ]
     },
     "execution_count": 118,
     "metadata": {},
     "output_type": "execute_result"
    },
    {
     "data": {
      "image/png": "[encoded data removed]",
      "text/plain": [
       "<Figure size 432x288 with 1 Axes>"
      ]
     },
     "metadata": {
      "needs_background": "light"
     },
     "output_type": "display_data"
    }
   ],
   "source": [
    "sns.scatterplot(x=\"PC1\", y=\"PC2\", hue=metadata[\"Timepoint\"], data=metabo_pcoa.samples)"
   ]
  },
  {
   "cell_type": "code",
   "execution_count": null,
   "metadata": {},
   "outputs": [],
   "source": []
  }
 ],
 "metadata": {
  "kernelspec": {
   "display_name": "Python 3",
   "language": "python",
   "name": "python3"
  },
  "language_info": {
   "codemirror_mode": {
    "name": "ipython",
    "version": 3
   },
   "file_extension": ".py",
   "mimetype": "text/x-python",
   "name": "python",
   "nbconvert_exporter": "python",
   "pygments_lexer": "ipython3",
   "version": "3.6.12"
  }
 },
 "nbformat": 4,
 "nbformat_minor": 4
}
