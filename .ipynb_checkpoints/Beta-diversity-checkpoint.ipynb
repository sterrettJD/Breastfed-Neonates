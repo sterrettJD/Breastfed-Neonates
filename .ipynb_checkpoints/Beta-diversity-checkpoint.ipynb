{
 "cells": [
  {
   "cell_type": "code",
   "execution_count": 2,
   "metadata": {},
   "outputs": [],
   "source": [
    "import pandas as pd\n",
    "import numpy as np\n",
    "import matplotlib.pyplot as plt\n",
    "import seaborn as sns\n",
    "from qiime2 import Artifact, Visualization\n",
    "\n",
    "from skbio.stats.distance import mantel, permanova, DistanceMatrix\n",
    "from scipy.spatial.distance import pdist, cdist"
   ]
  },
  {
   "cell_type": "markdown",
   "metadata": {},
   "source": [
    "# Setup"
   ]
  },
  {
   "cell_type": "code",
   "execution_count": 4,
   "metadata": {},
   "outputs": [],
   "source": [
    "wuni = Artifact.load(\"core-diversity-results/weighted_unifrac_distance_matrix.qza\").view(DistanceMatrix)\n",
    "uuni = Artifact.load(\"core-diversity-results/unweighted_unifrac_distance_matrix.qza\").view(DistanceMatrix)\n",
    "bray = Artifact.load(\"core-diversity-results/bray_curtis_distance_matrix.qza\").view(DistanceMatrix)"
   ]
  },
  {
   "cell_type": "code",
   "execution_count": 7,
   "metadata": {},
   "outputs": [],
   "source": [
    "metadata = pd.read_csv(\"data/metadata.tsv\", sep=\"\\t\", index_col=\"Sampleid\")"
   ]
  },
  {
   "cell_type": "code",
   "execution_count": 17,
   "metadata": {},
   "outputs": [
    {
     "data": {
      "text/plain": [
       "Index(['Subjectcode', 'Timepoint', 'Sex', 'Length', 'Birth Weight',\n",
       "       'Gestational Age', 'Infections', 'Antibiotic use', 'Mothers Age',\n",
       "       'Mothers Height', 'Mothers Weight', 'Education', 'Ethnicity Race',\n",
       "       'Zip code', 'Annual Household Income', 'Smoke',\n",
       "       'Smoke during pregnancy', 'Smoke after delivery', 'Alcohol',\n",
       "       'Drinks before pregnancy per week', 'Current H. pylori infection',\n",
       "       'Pregnancy complications', 'Probiotics during pregnancy',\n",
       "       'Post-natal probiotics', 'Post-natal multivitamins',\n",
       "       'Antibiotic use during pregnancy', 'Antibiotic use which trimester',\n",
       "       'Antibiotic use Post-natal', 'Other post-natal medications',\n",
       "       'High cholesterol', 'EBM-FF-PBM', 'Maternal relevant medical hx',\n",
       "       'Current feeding method', 'Solid foods given', 'Baby Antibiotic use',\n",
       "       'Mother antibiotic use'],\n",
       "      dtype='object')"
      ]
     },
     "execution_count": 17,
     "metadata": {},
     "output_type": "execute_result"
    }
   ],
   "source": [
    "metadata.columns"
   ]
  },
  {
   "cell_type": "markdown",
   "metadata": {},
   "source": [
    "# Categorical variables"
   ]
  },
  {
   "cell_type": "code",
   "execution_count": 13,
   "metadata": {},
   "outputs": [
    {
     "name": "stdout",
     "output_type": "stream",
     "text": [
      "\u001b[32mSaved Visualization to: core-diversity-results/PERMANOVA-subject.qzv\u001b[0m\r\n"
     ]
    }
   ],
   "source": [
    "! qiime diversity beta-group-significance \\\n",
    "--i-distance-matrix core-diversity-results/weighted_unifrac_distance_matrix.qza \\\n",
    "--m-metadata-file data/metadata.tsv \\\n",
    "--m-metadata-column Subjectcode \\\n",
    "--o-visualization core-diversity-results/PERMANOVA-subject.qzv"
   ]
  },
  {
   "cell_type": "code",
   "execution_count": 14,
   "metadata": {},
   "outputs": [
    {
     "name": "stdout",
     "output_type": "stream",
     "text": [
      "\u001b[32mSaved Visualization to: core-diversity-results/PERMANOVA-subject-uuni.qzv\u001b[0m\r\n"
     ]
    }
   ],
   "source": [
    "! qiime diversity beta-group-significance \\\n",
    "--i-distance-matrix core-diversity-results/unweighted_unifrac_distance_matrix.qza \\\n",
    "--m-metadata-file data/metadata.tsv \\\n",
    "--m-metadata-column Subjectcode \\\n",
    "--o-visualization core-diversity-results/PERMANOVA-subject-uuni.qzv"
   ]
  },
  {
   "cell_type": "code",
   "execution_count": 15,
   "metadata": {},
   "outputs": [
    {
     "name": "stdout",
     "output_type": "stream",
     "text": [
      "\u001b[32mSaved Visualization to: core-diversity-results/PERMANOVA-subject-bray.qzv\u001b[0m\r\n"
     ]
    }
   ],
   "source": [
    "! qiime diversity beta-group-significance \\\n",
    "--i-distance-matrix core-diversity-results/bray_curtis_distance_matrix.qza \\\n",
    "--m-metadata-file data/metadata.tsv \\\n",
    "--m-metadata-column Subjectcode \\\n",
    "--o-visualization core-diversity-results/PERMANOVA-subject-bray.qzv"
   ]
  },
  {
   "cell_type": "markdown",
   "metadata": {},
   "source": [
    "### The variation between individuals is significantly larger than the variation within individuals\n",
    "\n",
    "#### Weighted UniFrac\n",
    "- pseudo-F = 2.834\n",
    "- p-value = 0.001\n",
    "\n",
    "#### Unweighted UniFrac\n",
    "- test statistic = 1.59645\n",
    "- p-value = 0.008\n",
    "\n",
    "#### Bray-Curtis\n",
    "- test statistic = 2.9183\n",
    "- p-value = 0.001"
   ]
  },
  {
   "cell_type": "code",
   "execution_count": null,
   "metadata": {},
   "outputs": [],
   "source": [
    "t0 = metadata[metadata[\"Timepoint\"]==0]\n",
    "t1 = metadata[metadata[\"Timepoint\"]==1]\n",
    "t2 = metadata[metadata[\"Timepoint\"]==2]\n",
    "\n"
   ]
  },
  {
   "cell_type": "code",
   "execution_count": null,
   "metadata": {},
   "outputs": [],
   "source": [
    "Smoke during pregnancy"
   ]
  }
 ],
 "metadata": {
  "kernelspec": {
   "display_name": "Python 3",
   "language": "python",
   "name": "python3"
  },
  "language_info": {
   "codemirror_mode": {
    "name": "ipython",
    "version": 3
   },
   "file_extension": ".py",
   "mimetype": "text/x-python",
   "name": "python",
   "nbconvert_exporter": "python",
   "pygments_lexer": "ipython3",
   "version": "3.6.12"
  }
 },
 "nbformat": 4,
 "nbformat_minor": 4
}
